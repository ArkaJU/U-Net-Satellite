{
 "cells": [
  {
   "cell_type": "markdown",
   "metadata": {},
   "source": [
    "## Code to resize images."
   ]
  },
  {
   "cell_type": "code",
   "execution_count": 17,
   "metadata": {},
   "outputs": [],
   "source": [
    "import cv2\n",
    "from PIL import Image\n",
    "import numpy as np\n",
    "import h5py"
   ]
  },
  {
   "cell_type": "code",
   "execution_count": null,
   "metadata": {},
   "outputs": [],
   "source": [
    "#threshold function is disabled when resizing input images\n",
    "path = \"masks_train1/\"\n",
    "\n",
    "for i in range(1,2088):\n",
    "    dim = (256, 256) #(w,h)\n",
    "    image = cv2.imread(path + str(i) + \".png\", 0)\n",
    "    resized = cv2.resize(image, dim, interpolation=cv2.INTER_AREA)\n",
    "    (thresh, im_bw) = cv2.threshold(resized, 128, 255, cv2.THRESH_BINARY)\n",
    "    cv2.imwrite('mask_train/' + str(i) + '.png', im_bw)"
   ]
  },
  {
   "cell_type": "code",
   "execution_count": 25,
   "metadata": {},
   "outputs": [],
   "source": [
    "images = []\n",
    "masks = []\n",
    "for i in range(1, 2088):\n",
    "    img = Image.open(\"images_train/\" + str(i) + \".png\")\n",
    "    arr = np.array(img)\n",
    "    images.append(arr)\n",
    "    img = Image.open(\"mask_train/\" + str(i) + \".png\")\n",
    "    arr = np.array(img)\n",
    "    arr = np.expand_dims(arr, -1)\n",
    "    masks.append(arr)"
   ]
  },
  {
   "cell_type": "code",
   "execution_count": 27,
   "metadata": {},
   "outputs": [
    {
     "data": {
      "text/plain": [
       "(2087, 256, 256, 1)"
      ]
     },
     "execution_count": 27,
     "metadata": {},
     "output_type": "execute_result"
    }
   ],
   "source": [
    "images = np.array(images)\n",
    "masks = np.array(masks)\n",
    "masks.shape"
   ]
  },
  {
   "cell_type": "code",
   "execution_count": 23,
   "metadata": {},
   "outputs": [],
   "source": [
    "with h5py.File(\"Dataset_train.h5\", 'w') as hdf:\n",
    "    hdf.create_dataset('images', data=images, compression='gzip', compression_opts=9)\n",
    "    hdf.create_dataset('masks', data=masks, compression='gzip', compression_opts=9)"
   ]
  }
 ],
 "metadata": {
  "kernelspec": {
   "display_name": "Python 3",
   "language": "python",
   "name": "python3"
  },
  "language_info": {
   "codemirror_mode": {
    "name": "ipython",
    "version": 3
   },
   "file_extension": ".py",
   "mimetype": "text/x-python",
   "name": "python",
   "nbconvert_exporter": "python",
   "pygments_lexer": "ipython3",
   "version": "3.6.5"
  }
 },
 "nbformat": 4,
 "nbformat_minor": 2
}
